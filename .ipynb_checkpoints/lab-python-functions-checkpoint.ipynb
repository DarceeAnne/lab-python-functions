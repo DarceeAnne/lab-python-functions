{
 "cells": [
  {
   "cell_type": "markdown",
   "id": "25d7736c-ba17-4aff-b6bb-66eba20fbf4e",
   "metadata": {},
   "source": [
    "# Lab | Functions"
   ]
  },
  {
   "cell_type": "markdown",
   "id": "0c581062-8967-4d93-b06e-62833222f930",
   "metadata": {
    "tags": []
   },
   "source": [
    "## Exercise: Managing Customer Orders with Functions\n",
    "\n",
    "In the previous exercise, you improved the code for managing customer orders by using loops and flow control. Now, let's take it a step further and refactor the code by introducing functions.\n",
    "\n",
    "Follow the steps below to complete the exercise:\n",
    "\n",
    "1. Define a function named `initialize_inventory` that takes `products` as a parameter. Inside the function, implement the code for initializing the inventory dictionary using a loop and user input.\n",
    "\n",
    "2. Define a function named `get_customer_orders` that takes no parameters. Inside the function, implement the code for prompting the user to enter the product names using a loop. The function should return the `customer_orders` set.\n",
    "\n",
    "3. Define a function named `update_inventory` that takes `customer_orders` and `inventory` as parameters. Inside the function, implement the code for updating the inventory dictionary based on the customer orders.\n",
    "\n",
    "4. Define a function named `calculate_order_statistics` that takes `customer_orders` and `products` as parameters. Inside the function, implement the code for calculating the order statistics (total products ordered, and percentage of unique products ordered). The function should return these values.\n",
    "\n",
    "5. Define a function named `print_order_statistics` that takes `order_statistics` as a parameter. Inside the function, implement the code for printing the order statistics.\n",
    "\n",
    "6. Define a function named `print_updated_inventory` that takes `inventory` as a parameter. Inside the function, implement the code for printing the updated inventory.\n",
    "\n",
    "7. Call the functions in the appropriate sequence to execute the program and manage customer orders.\n",
    "\n",
    "Hints for functions:\n",
    "\n",
    "- Consider the input parameters required for each function and their return values.\n",
    "- Utilize function parameters and return values to transfer data between functions.\n",
    "- Test your functions individually to ensure they work correctly.\n",
    "\n",
    "\n"
   ]
  },
  {
   "cell_type": "code",
   "execution_count": 3,
   "id": "dc5d8d4c",
   "metadata": {},
   "outputs": [
    {
     "name": "stdout",
     "output_type": "stream",
     "text": [
      "How many t-shirt are there (enter number)? 5\n",
      "How many mug are there (enter number)? 60\n",
      "How many hat are there (enter number)? 45\n",
      "How many book are there (enter number)? 87\n",
      "How many keychain are there (enter number)? 52\n",
      "Current inventory: {'t-shirt': 5, 'mug': 60, 'hat': 45, 'book': 87, 'keychain': 52}\n"
     ]
    }
   ],
   "source": [
    "#Define a function named initialize_inventory that takes products as a parameter. \n",
    "#Inside the function, implement the code for initializing the inventory dictionary using a loop and user input.\n",
    "\n",
    "def initialize_inventory(products):\n",
    "    inventory={}\n",
    "    for item in products:\n",
    "        count = int(input(f\"How many {item} are there (enter number)? \"))\n",
    "        inventory[item] = count\n",
    "    return inventory\n",
    "        \n",
    "products=[\"t-shirt\", \"mug\", \"hat\", \"book\", \"keychain\"]\n",
    "inventory = initialize_inventory(products)\n",
    "print(\"Current inventory:\", inventory)"
   ]
  },
  {
   "cell_type": "code",
   "execution_count": 7,
   "id": "977cd14d",
   "metadata": {},
   "outputs": [
    {
     "name": "stdout",
     "output_type": "stream",
     "text": [
      "Do you want a t-shirt/mug/hat/book/keychain? (Enter 'done' when you are finished) book\n",
      "Do you want a t-shirt/mug/hat/book/keychain? (Enter 'done' when you are finished) book\n",
      "Do you want a t-shirt/mug/hat/book/keychain? (Enter 'done' when you are finished) keychain\n",
      "Do you want a t-shirt/mug/hat/book/keychain? (Enter 'done' when you are finished) mug\n",
      "Do you want a t-shirt/mug/hat/book/keychain? (Enter 'done' when you are finished) mug\n",
      "Do you want a t-shirt/mug/hat/book/keychain? (Enter 'done' when you are finished) mug\n",
      "Do you want a t-shirt/mug/hat/book/keychain? (Enter 'done' when you are finished) done\n",
      "Your order: ['book', 'book', 'keychain', 'mug', 'mug', 'mug']\n"
     ]
    }
   ],
   "source": [
    "#Define a function named get_customer_orders that takes no parameters. \n",
    "#Inside the function, implement the code for prompting the user to enter the product names using a loop. \n",
    "#The function should return the customer_orders set.\n",
    "\n",
    "def get_customer_orders():\n",
    "    customer_order = []  \n",
    "# Initialize an empty LIST to store customer orders. \n",
    "#Directions say to use a SET.\n",
    "#I couldn't figure out how to make it work without dropping duplicates (for example if the customer wants 2 mugs).\n",
    "    items = ['t-shirt', 'mug', 'hat', 'book', 'keychain']\n",
    "    while True:  # Loop indefinitely until break statement is encountered\n",
    "        customer_order_item = input(f\"Do you want a {'/'.join(items)}? (Enter 'done' when you are finished) \").strip().lower()\n",
    "        if customer_order_item == 'done':\n",
    "            break  # Exit the loop if the user says 'done'\n",
    "        if customer_order_item in items:\n",
    "            customer_order.append(customer_order_item)  # Add the customer's order to the list\n",
    "        else:\n",
    "            print(\"Invalid item. Please choose from the provided list.\")\n",
    "\n",
    "    return customer_order\n",
    "\n",
    "customer_orders = get_customer_orders()\n",
    "print(\"Your order:\", customer_orders)"
   ]
  },
  {
   "cell_type": "code",
   "execution_count": 9,
   "id": "fbf90927",
   "metadata": {},
   "outputs": [
    {
     "name": "stdout",
     "output_type": "stream",
     "text": [
      "Updated Inventory:\n",
      "{'t-shirt': 5, 'mug': 53, 'hat': 41, 'book': 83, 'keychain': 49}\n"
     ]
    }
   ],
   "source": [
    "#Define a function named update_inventory that takes customer_orders and inventory as parameters. \n",
    "#Inside the function, implement the code for updating the inventory dictionary based on the customer orders.\n",
    "\n",
    "def update_inventory(customer_orders,inventory):\n",
    "    for item in customer_orders:\n",
    "        if item in inventory:\n",
    "            inventory[item] -= 1\n",
    "        else:\n",
    "            pass\n",
    "    return inventory\n",
    "\n",
    "updated_inventory=update_inventory(customer_orders,inventory)\n",
    "print(\"Updated Inventory:\")\n",
    "print(updated_inventory)\n",
    "    "
   ]
  },
  {
   "cell_type": "code",
   "execution_count": 16,
   "id": "d4dd550e",
   "metadata": {},
   "outputs": [
    {
     "name": "stdout",
     "output_type": "stream",
     "text": [
      "Total products ordered: 6\n",
      "Total unique products ordered: 3\n",
      "This order includes 3 of 5 total available products - or 60% of all products.\n"
     ]
    }
   ],
   "source": [
    "### I didn't look ahead to the next step and printed created the function and printed the stats in one go.\n",
    "### I try again in the next code block.\n",
    "\n",
    "#Define a function named calculate_order_statistics that takes customer_orders and products as parameters. \n",
    "#Inside the function, implement the code for calculating the order statistics \n",
    "#(total products ordered, and percentage of unique products ordered). \n",
    "#The function should return these values.\n",
    "\n",
    "def calculate_order_statistics(customer_orders,products):\n",
    "    nb_ordered=len(customer_orders)\n",
    "    nb_ordered_unique = len(set(customer_orders))\n",
    "    nb_products=len(products)\n",
    "    percentage_prod_ordered= round(nb_ordered_unique/nb_products*100)\n",
    "    return nb_ordered, nb_products, percentage_prod_ordered, nb_ordered_unique\n",
    "\n",
    "nb_ordered, nb_products, percentage_prod_ordered,nb_ordered_unique = calculate_order_statistics(customer_orders, products)\n",
    "\n",
    "print(f\"Total products ordered: {nb_ordered}\")\n",
    "print(f\"Total unique products ordered: {nb_ordered_unique}\")\n",
    "print(f\"This order includes {nb_ordered_unique} of {nb_products} total available products - or {percentage_prod_ordered}% of all products.\")"
   ]
  },
  {
   "cell_type": "code",
   "execution_count": 17,
   "id": "73e9f8be",
   "metadata": {},
   "outputs": [],
   "source": [
    "###Trying again without printing everything and creating \"order_statistics\".\n",
    "\n",
    "#Define a function named calculate_order_statistics that takes customer_orders and products as parameters. \n",
    "#Inside the function, implement the code for calculating the order statistics \n",
    "#(total products ordered, and percentage of unique products ordered). \n",
    "#The function should return these values.\n",
    "\n",
    "def calculate_order_statistics(customer_orders,products):\n",
    "    nb_ordered=len(customer_orders)\n",
    "    nb_ordered_unique = len(set(customer_orders))\n",
    "    nb_products=len(products)\n",
    "    percentage_prod_ordered= round(nb_ordered_unique/nb_products*100)\n",
    "    return nb_ordered, nb_products, percentage_prod_ordered, nb_ordered_unique\n",
    "\n",
    "order_statistics = calculate_order_statistics(customer_orders, products)"
   ]
  },
  {
   "cell_type": "code",
   "execution_count": 22,
   "id": "2c7bdd29",
   "metadata": {},
   "outputs": [
    {
     "name": "stdout",
     "output_type": "stream",
     "text": [
      "Total products ordered: 6\n",
      "Total unique products ordered: 3\n",
      "This order includes 3 of 5 total available products - or 60% of all products.\n"
     ]
    }
   ],
   "source": [
    "### I got ahead of myself above...\n",
    "\n",
    "#Define a function named print_order_statistics that takes order_statistics as a parameter. \n",
    "#Inside the function, implement the code for printing the order statistics.\n",
    "\n",
    "def print_order_statistics(order_statistics):\n",
    "    stat1 = f\"Total products ordered: {nb_ordered}\"\n",
    "    stat2 = f\"Total unique products ordered: {nb_ordered_unique}\"\n",
    "    stat3 =f\"This order includes {nb_ordered_unique} of {nb_products} total available products - or {percentage_prod_ordered}% of all products.\"\n",
    "    print(stat1)\n",
    "    print(stat2)\n",
    "    print(stat3)\n",
    "\n",
    "print_order_statistics(order_statistics)\n"
   ]
  },
  {
   "cell_type": "code",
   "execution_count": 2,
   "id": "04d12128",
   "metadata": {
    "scrolled": true
   },
   "outputs": [
    {
     "name": "stdout",
     "output_type": "stream",
     "text": [
      "Do you want a t-shirt? (yes/no) yes\n",
      "Do you want a mug? (yes/no) no\n",
      "Do you want a hat? (yes/no) no\n",
      "Do you want a book? (yes/no) yes\n",
      "Do you want a keychain? (yes/no) yes\n",
      "Your order: {'keychain', 'book', 't-shirt'}\n"
     ]
    }
   ],
   "source": [
    "### This was my first attempt to create the function to collect customer orders.\n",
    "### It works, but on the assumption that customers may order a maximum of one of each item.\n",
    "\n",
    "#Define a function named get_customer_orders that takes no parameters. \n",
    "#Inside the function, implement the code for prompting the user to enter the product names using a loop. \n",
    "#The function should return the customer_orders set.\n",
    "\n",
    "# def get_customer_orders() :\n",
    "#     customer_order = set()  \n",
    "#     items = ['t-shirt', 'mug', 'hat', 'book', 'keychain']\n",
    "#     for item in items:\n",
    "#         customer_order_item = input(f\"Do you want a {item}? (yes/no) \").strip().lower()\n",
    "#         if customer_order_item == 'yes':\n",
    "#             customer_order.add(item)\n",
    "#     return customer_order\n",
    "\n",
    "# your_order = get_customer_orders()\n",
    "# print(\"Your order:\", your_order)"
   ]
  },
  {
   "cell_type": "code",
   "execution_count": null,
   "id": "eb531f69",
   "metadata": {},
   "outputs": [],
   "source": []
  }
 ],
 "metadata": {
  "kernelspec": {
   "display_name": "Python 3 (ipykernel)",
   "language": "python",
   "name": "python3"
  },
  "language_info": {
   "codemirror_mode": {
    "name": "ipython",
    "version": 3
   },
   "file_extension": ".py",
   "mimetype": "text/x-python",
   "name": "python",
   "nbconvert_exporter": "python",
   "pygments_lexer": "ipython3",
   "version": "3.11.5"
  }
 },
 "nbformat": 4,
 "nbformat_minor": 5
}
