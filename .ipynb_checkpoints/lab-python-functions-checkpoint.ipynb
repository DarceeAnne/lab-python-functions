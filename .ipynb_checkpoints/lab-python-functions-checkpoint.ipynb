{
 "cells": [
  {
   "cell_type": "markdown",
   "id": "25d7736c-ba17-4aff-b6bb-66eba20fbf4e",
   "metadata": {},
   "source": [
    "# Lab | Functions"
   ]
  },
  {
   "cell_type": "markdown",
   "id": "0c581062-8967-4d93-b06e-62833222f930",
   "metadata": {
    "tags": []
   },
   "source": [
    "## Exercise: Managing Customer Orders with Functions\n",
    "\n",
    "In the previous exercise, you improved the code for managing customer orders by using loops and flow control. Now, let's take it a step further and refactor the code by introducing functions.\n",
    "\n",
    "Follow the steps below to complete the exercise:\n",
    "\n",
    "1. Define a function named `initialize_inventory` that takes `products` as a parameter. Inside the function, implement the code for initializing the inventory dictionary using a loop and user input.\n",
    "\n",
    "2. Define a function named `get_customer_orders` that takes no parameters. Inside the function, implement the code for prompting the user to enter the product names using a loop. The function should return the `customer_orders` set.\n",
    "\n",
    "3. Define a function named `update_inventory` that takes `customer_orders` and `inventory` as parameters. Inside the function, implement the code for updating the inventory dictionary based on the customer orders.\n",
    "\n",
    "4. Define a function named `calculate_order_statistics` that takes `customer_orders` and `products` as parameters. Inside the function, implement the code for calculating the order statistics (total products ordered, and percentage of unique products ordered). The function should return these values.\n",
    "\n",
    "5. Define a function named `print_order_statistics` that takes `order_statistics` as a parameter. Inside the function, implement the code for printing the order statistics.\n",
    "\n",
    "6. Define a function named `print_updated_inventory` that takes `inventory` as a parameter. Inside the function, implement the code for printing the updated inventory.\n",
    "\n",
    "7. Call the functions in the appropriate sequence to execute the program and manage customer orders.\n",
    "\n",
    "Hints for functions:\n",
    "\n",
    "- Consider the input parameters required for each function and their return values.\n",
    "- Utilize function parameters and return values to transfer data between functions.\n",
    "- Test your functions individually to ensure they work correctly.\n",
    "\n",
    "\n"
   ]
  },
  {
   "cell_type": "code",
   "execution_count": 8,
   "id": "ebf14667",
   "metadata": {},
   "outputs": [
    {
     "name": "stdout",
     "output_type": "stream",
     "text": [
      "How many t-shirt are there (enter number)? 23\n",
      "How many mug are there (enter number)? 6\n",
      "How many hat are there (enter number)? 14\n",
      "How many book are there (enter number)? 9\n",
      "How many keychain are there (enter number)? 4\n",
      "Current inventory: {'t-shirt': 23, 'mug': 6, 'hat': 14, 'book': 9, 'keychain': 4}\n"
     ]
    }
   ],
   "source": [
    "#Define a function named initialize_inventory that takes products as a parameter. Inside the function, implement the code for initializing the inventory dictionary using a loop and user input.\n",
    "\n",
    "def initialize_inventory(products):\n",
    "    inventory={}\n",
    "    for item in products:\n",
    "        count = int(input(f\"How many {item} are there (enter number)? \"))\n",
    "        inventory[item] = count\n",
    "    return inventory\n",
    "        \n",
    "products=[\"t-shirt\", \"mug\", \"hat\", \"book\", \"keychain\"]\n",
    "inventory = initialize_inventory(products)\n",
    "print(\"Current inventory:\", inventory)"
   ]
  },
  {
   "cell_type": "code",
   "execution_count": 2,
   "id": "8a43570f",
   "metadata": {},
   "outputs": [
    {
     "name": "stdout",
     "output_type": "stream",
     "text": [
      "Do you want a t-shirt? (yes/no) yes\n",
      "Do you want a mug? (yes/no) no\n",
      "Do you want a hat? (yes/no) no\n",
      "Do you want a book? (yes/no) yes\n",
      "Do you want a keychain? (yes/no) yes\n",
      "Your order: {'keychain', 'book', 't-shirt'}\n"
     ]
    }
   ],
   "source": [
    "#Define a function named get_customer_orders that takes no parameters. Inside the function, implement the code for prompting the user to enter the product names using a loop. The function should return the customer_orders set.\n",
    "\n",
    "def get_customer_orders() :\n",
    "    customer_order = set()  \n",
    "    items = ['t-shirt', 'mug', 'hat', 'book', 'keychain']\n",
    "    for item in items:\n",
    "        customer_order_item = input(f\"Do you want a {item}? (yes/no) \").strip().lower()\n",
    "        if customer_order_item == 'yes':\n",
    "            customer_order.add(item)\n",
    "    return customer_order\n",
    "\n",
    "your_order = get_customer_orders()\n",
    "print(\"Your order:\", your_order)"
   ]
  },
  {
   "cell_type": "code",
   "execution_count": 7,
   "id": "a79b0311",
   "metadata": {},
   "outputs": [
    {
     "name": "stdout",
     "output_type": "stream",
     "text": [
      "Updated Inventory:\n",
      "{'t-shirt': 3, 'mug': 51, 'hat': 2, 'book': 34, 'keychain': 18}\n"
     ]
    }
   ],
   "source": [
    "def update_inventory(your_order,inventory):\n",
    "    for item in your_order:\n",
    "        if item in inventory:\n",
    "            inventory[item] -= 1\n",
    "        else:\n",
    "            pass\n",
    "    return inventory\n",
    "\n",
    "updated_inventory=update_inventory(your_order,inventory)\n",
    "print(\"Updated Inventory:\")\n",
    "print(updated_inventory)\n",
    "    "
   ]
  },
  {
   "cell_type": "code",
   "execution_count": null,
   "id": "9a048ad2",
   "metadata": {},
   "outputs": [],
   "source": []
  }
 ],
 "metadata": {
  "kernelspec": {
   "display_name": "Python 3 (ipykernel)",
   "language": "python",
   "name": "python3"
  },
  "language_info": {
   "codemirror_mode": {
    "name": "ipython",
    "version": 3
   },
   "file_extension": ".py",
   "mimetype": "text/x-python",
   "name": "python",
   "nbconvert_exporter": "python",
   "pygments_lexer": "ipython3",
   "version": "3.11.5"
  }
 },
 "nbformat": 4,
 "nbformat_minor": 5
}
